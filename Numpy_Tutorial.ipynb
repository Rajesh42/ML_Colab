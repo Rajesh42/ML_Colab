{
  "nbformat": 4,
  "nbformat_minor": 0,
  "metadata": {
    "colab": {
      "name": "Numpy Tutorial.ipynb",
      "provenance": [],
      "collapsed_sections": [],
      "include_colab_link": true
    },
    "kernelspec": {
      "name": "python3",
      "display_name": "Python 3"
    }
  },
  "cells": [
    {
      "cell_type": "markdown",
      "metadata": {
        "id": "view-in-github",
        "colab_type": "text"
      },
      "source": [
        "<a href=\"https://colab.research.google.com/github/Rajesh42/ML_Colab/blob/main/Numpy_Tutorial.ipynb\" target=\"_parent\"><img src=\"https://colab.research.google.com/assets/colab-badge.svg\" alt=\"Open In Colab\"/></a>"
      ]
    },
    {
      "cell_type": "markdown",
      "metadata": {
        "id": "v3UUQkVko68G"
      },
      "source": [
        "Section 1 of:\n",
        "\n",
        "https://www.udemy.com/deep-learning-prerequisites-the-numpy-stack-in-python/\n",
        "\n",
        "https://deeplearningcourses.com/c/deep-learning-prerequisites-the-numpy-stack-in-python"
      ]
    },
    {
      "cell_type": "markdown",
      "metadata": {
        "id": "Qppj_nuWLj5x"
      },
      "source": [
        "## Arrays vs Lists"
      ]
    },
    {
      "cell_type": "code",
      "metadata": {
        "id": "2YWtop3oo3jK"
      },
      "source": [
        "import numpy as np"
      ],
      "execution_count": 1,
      "outputs": []
    },
    {
      "cell_type": "code",
      "metadata": {
        "id": "CYf8KIrKpDlp"
      },
      "source": [
        "L = [1,2,3]"
      ],
      "execution_count": 2,
      "outputs": []
    },
    {
      "cell_type": "code",
      "metadata": {
        "id": "AABDVAM-pKqw"
      },
      "source": [
        "A = np.array([1,2,3])"
      ],
      "execution_count": 3,
      "outputs": []
    },
    {
      "cell_type": "code",
      "metadata": {
        "id": "hYwR2_RepN6D",
        "colab": {
          "base_uri": "https://localhost:8080/"
        },
        "outputId": "ec2e7fb6-4976-458e-c23a-13ec989e98b0"
      },
      "source": [
        "for e in L:\n",
        "  print(e)"
      ],
      "execution_count": 4,
      "outputs": [
        {
          "output_type": "stream",
          "name": "stdout",
          "text": [
            "1\n",
            "2\n",
            "3\n"
          ]
        }
      ]
    },
    {
      "cell_type": "code",
      "metadata": {
        "id": "l3N31fTspP4B",
        "colab": {
          "base_uri": "https://localhost:8080/"
        },
        "outputId": "262fda9b-350b-4405-80bf-0b77bb22c2c6"
      },
      "source": [
        "for e in A:\n",
        "  print(e)"
      ],
      "execution_count": 5,
      "outputs": [
        {
          "output_type": "stream",
          "name": "stdout",
          "text": [
            "1\n",
            "2\n",
            "3\n"
          ]
        }
      ]
    },
    {
      "cell_type": "code",
      "metadata": {
        "id": "L_WURu4epSm6"
      },
      "source": [
        "L.append(4)"
      ],
      "execution_count": 6,
      "outputs": []
    },
    {
      "cell_type": "code",
      "metadata": {
        "id": "fDsd-UBXpXNU",
        "colab": {
          "base_uri": "https://localhost:8080/"
        },
        "outputId": "b8631a48-4c19-407b-bd8e-403d7d3a549e"
      },
      "source": [
        "L"
      ],
      "execution_count": 9,
      "outputs": [
        {
          "output_type": "execute_result",
          "data": {
            "text/plain": [
              "[1, 2, 3, 4]"
            ]
          },
          "metadata": {},
          "execution_count": 9
        }
      ]
    },
    {
      "cell_type": "code",
      "metadata": {
        "id": "8DP73J3KpYH7",
        "colab": {
          "base_uri": "https://localhost:8080/",
          "height": 165
        },
        "outputId": "9af1dba5-8a82-498d-ef3e-ec1c9350e76a"
      },
      "source": [
        "A.append(4) # doesn't work"
      ],
      "execution_count": 7,
      "outputs": [
        {
          "output_type": "error",
          "ename": "AttributeError",
          "evalue": "ignored",
          "traceback": [
            "\u001b[0;31m---------------------------------------------------------------------------\u001b[0m",
            "\u001b[0;31mAttributeError\u001b[0m                            Traceback (most recent call last)",
            "\u001b[0;32m<ipython-input-7-84d7a00f227d>\u001b[0m in \u001b[0;36m<module>\u001b[0;34m()\u001b[0m\n\u001b[0;32m----> 1\u001b[0;31m \u001b[0mA\u001b[0m\u001b[0;34m.\u001b[0m\u001b[0mappend\u001b[0m\u001b[0;34m(\u001b[0m\u001b[0;36m4\u001b[0m\u001b[0;34m)\u001b[0m \u001b[0;31m# doesn't work\u001b[0m\u001b[0;34m\u001b[0m\u001b[0;34m\u001b[0m\u001b[0m\n\u001b[0m",
            "\u001b[0;31mAttributeError\u001b[0m: 'numpy.ndarray' object has no attribute 'append'"
          ]
        }
      ]
    },
    {
      "cell_type": "code",
      "metadata": {
        "id": "beoI6SsCpbQW",
        "colab": {
          "base_uri": "https://localhost:8080/"
        },
        "outputId": "2856744b-e6e3-41e1-b1bd-f60d81e0f7b1"
      },
      "source": [
        "L + [5]"
      ],
      "execution_count": 10,
      "outputs": [
        {
          "output_type": "execute_result",
          "data": {
            "text/plain": [
              "[1, 2, 3, 4, 5]"
            ]
          },
          "metadata": {},
          "execution_count": 10
        }
      ]
    },
    {
      "cell_type": "code",
      "metadata": {
        "id": "UodzHCvUphsg",
        "colab": {
          "base_uri": "https://localhost:8080/"
        },
        "outputId": "d99f2458-a5e2-4807-fce9-f80cf0bd88a9"
      },
      "source": [
        "A + np.array([4])"
      ],
      "execution_count": 11,
      "outputs": [
        {
          "output_type": "execute_result",
          "data": {
            "text/plain": [
              "array([5, 6, 7])"
            ]
          },
          "metadata": {},
          "execution_count": 11
        }
      ]
    },
    {
      "cell_type": "code",
      "metadata": {
        "id": "NQeDCZ9fpl3M",
        "colab": {
          "base_uri": "https://localhost:8080/"
        },
        "outputId": "fdd65de8-2558-4547-c65b-748011ddc6a9"
      },
      "source": [
        "A + np.array([4,5,6])"
      ],
      "execution_count": 12,
      "outputs": [
        {
          "output_type": "execute_result",
          "data": {
            "text/plain": [
              "array([5, 7, 9])"
            ]
          },
          "metadata": {},
          "execution_count": 12
        }
      ]
    },
    {
      "cell_type": "code",
      "metadata": {
        "id": "FvYRdkbHppDf",
        "colab": {
          "base_uri": "https://localhost:8080/",
          "height": 165
        },
        "outputId": "a7a2b105-aa3a-4a11-b165-0c390bf34402"
      },
      "source": [
        "A + np.array([4,5]) # doesn't work"
      ],
      "execution_count": 13,
      "outputs": [
        {
          "output_type": "error",
          "ename": "ValueError",
          "evalue": "ignored",
          "traceback": [
            "\u001b[0;31m---------------------------------------------------------------------------\u001b[0m",
            "\u001b[0;31mValueError\u001b[0m                                Traceback (most recent call last)",
            "\u001b[0;32m<ipython-input-13-a963f9ab89a9>\u001b[0m in \u001b[0;36m<module>\u001b[0;34m()\u001b[0m\n\u001b[0;32m----> 1\u001b[0;31m \u001b[0mA\u001b[0m \u001b[0;34m+\u001b[0m \u001b[0mnp\u001b[0m\u001b[0;34m.\u001b[0m\u001b[0marray\u001b[0m\u001b[0;34m(\u001b[0m\u001b[0;34m[\u001b[0m\u001b[0;36m4\u001b[0m\u001b[0;34m,\u001b[0m\u001b[0;36m5\u001b[0m\u001b[0;34m]\u001b[0m\u001b[0;34m)\u001b[0m \u001b[0;31m# doesn't work\u001b[0m\u001b[0;34m\u001b[0m\u001b[0;34m\u001b[0m\u001b[0m\n\u001b[0m",
            "\u001b[0;31mValueError\u001b[0m: operands could not be broadcast together with shapes (3,) (2,) "
          ]
        }
      ]
    },
    {
      "cell_type": "code",
      "metadata": {
        "id": "MS2n4LxVpr6b",
        "colab": {
          "base_uri": "https://localhost:8080/"
        },
        "outputId": "1a6a8d89-fe45-4bd8-f00a-91ce2bb1615e"
      },
      "source": [
        "2 * A"
      ],
      "execution_count": 14,
      "outputs": [
        {
          "output_type": "execute_result",
          "data": {
            "text/plain": [
              "array([2, 4, 6])"
            ]
          },
          "metadata": {},
          "execution_count": 14
        }
      ]
    },
    {
      "cell_type": "code",
      "metadata": {
        "id": "zO4USxRzptgs",
        "colab": {
          "base_uri": "https://localhost:8080/"
        },
        "outputId": "83c3f57c-0537-4a2c-b463-316a3244e72d"
      },
      "source": [
        "2 * L"
      ],
      "execution_count": 15,
      "outputs": [
        {
          "output_type": "execute_result",
          "data": {
            "text/plain": [
              "[1, 2, 3, 4, 1, 2, 3, 4]"
            ]
          },
          "metadata": {},
          "execution_count": 15
        }
      ]
    },
    {
      "cell_type": "code",
      "metadata": {
        "id": "LtLSqZgipu-P",
        "colab": {
          "base_uri": "https://localhost:8080/"
        },
        "outputId": "b88fe984-cabb-499c-94ec-059e07c6f2db"
      },
      "source": [
        "L + L"
      ],
      "execution_count": 16,
      "outputs": [
        {
          "output_type": "execute_result",
          "data": {
            "text/plain": [
              "[1, 2, 3, 4, 1, 2, 3, 4]"
            ]
          },
          "metadata": {},
          "execution_count": 16
        }
      ]
    },
    {
      "cell_type": "code",
      "metadata": {
        "id": "RJ11NZkSp13o"
      },
      "source": [
        "L2 = []\n",
        "for e in L:\n",
        "  L2.append(e + 3)"
      ],
      "execution_count": 17,
      "outputs": []
    },
    {
      "cell_type": "code",
      "metadata": {
        "id": "ZgtqoSvIp4va",
        "colab": {
          "base_uri": "https://localhost:8080/"
        },
        "outputId": "3031f232-865b-400c-b58d-dd03da7944ff"
      },
      "source": [
        "L2"
      ],
      "execution_count": 18,
      "outputs": [
        {
          "output_type": "execute_result",
          "data": {
            "text/plain": [
              "[4, 5, 6, 7]"
            ]
          },
          "metadata": {},
          "execution_count": 18
        }
      ]
    },
    {
      "cell_type": "code",
      "metadata": {
        "id": "GZCQEk-Rp7gx"
      },
      "source": [
        "L2 = [e + 3 for e in L]"
      ],
      "execution_count": 19,
      "outputs": []
    },
    {
      "cell_type": "code",
      "metadata": {
        "id": "McUAtUVep960",
        "colab": {
          "base_uri": "https://localhost:8080/"
        },
        "outputId": "f29e4311-621e-40fc-b516-4a5bbc491ba7"
      },
      "source": [
        "L2"
      ],
      "execution_count": 20,
      "outputs": [
        {
          "output_type": "execute_result",
          "data": {
            "text/plain": [
              "[4, 5, 6, 7]"
            ]
          },
          "metadata": {},
          "execution_count": 20
        }
      ]
    },
    {
      "cell_type": "code",
      "metadata": {
        "id": "vcy3WKcwp-wi"
      },
      "source": [
        "L2 = []\n",
        "for e in L:\n",
        "  L2.append(e**2)"
      ],
      "execution_count": 21,
      "outputs": []
    },
    {
      "cell_type": "code",
      "metadata": {
        "id": "1Emx-hN_qDa2",
        "colab": {
          "base_uri": "https://localhost:8080/"
        },
        "outputId": "e589e6d2-e58d-4092-c2bd-2465b489f327"
      },
      "source": [
        "L2"
      ],
      "execution_count": 22,
      "outputs": [
        {
          "output_type": "execute_result",
          "data": {
            "text/plain": [
              "[1, 4, 9, 16]"
            ]
          },
          "metadata": {},
          "execution_count": 22
        }
      ]
    },
    {
      "cell_type": "code",
      "metadata": {
        "id": "blVB8cA9qERt",
        "colab": {
          "base_uri": "https://localhost:8080/"
        },
        "outputId": "874bee30-623f-41b6-87a0-b2880a931c5a"
      },
      "source": [
        "A**2"
      ],
      "execution_count": 23,
      "outputs": [
        {
          "output_type": "execute_result",
          "data": {
            "text/plain": [
              "array([1, 4, 9])"
            ]
          },
          "metadata": {},
          "execution_count": 23
        }
      ]
    },
    {
      "cell_type": "code",
      "metadata": {
        "id": "gDfVRJ5fqGPV",
        "colab": {
          "base_uri": "https://localhost:8080/"
        },
        "outputId": "b8f99927-f565-4067-fa15-379c326ae735"
      },
      "source": [
        "np.sqrt(A)"
      ],
      "execution_count": 24,
      "outputs": [
        {
          "output_type": "execute_result",
          "data": {
            "text/plain": [
              "array([1.        , 1.41421356, 1.73205081])"
            ]
          },
          "metadata": {},
          "execution_count": 24
        }
      ]
    },
    {
      "cell_type": "code",
      "metadata": {
        "id": "yUwFM2OhqHwq",
        "colab": {
          "base_uri": "https://localhost:8080/"
        },
        "outputId": "a1430a3b-e0a2-488c-9069-d95af90476f4"
      },
      "source": [
        "np.log(A)"
      ],
      "execution_count": 25,
      "outputs": [
        {
          "output_type": "execute_result",
          "data": {
            "text/plain": [
              "array([0.        , 0.69314718, 1.09861229])"
            ]
          },
          "metadata": {},
          "execution_count": 25
        }
      ]
    },
    {
      "cell_type": "code",
      "metadata": {
        "id": "vlF9GWxzqIpd",
        "colab": {
          "base_uri": "https://localhost:8080/"
        },
        "outputId": "d15013d4-7311-4626-96a0-4a9222af3c0b"
      },
      "source": [
        "np.exp(A)"
      ],
      "execution_count": 26,
      "outputs": [
        {
          "output_type": "execute_result",
          "data": {
            "text/plain": [
              "array([ 2.71828183,  7.3890561 , 20.08553692])"
            ]
          },
          "metadata": {},
          "execution_count": 26
        }
      ]
    },
    {
      "cell_type": "code",
      "metadata": {
        "id": "pPvbPZB6qJq2",
        "colab": {
          "base_uri": "https://localhost:8080/"
        },
        "outputId": "58235bfe-08eb-4679-a44e-5fdc64909d4f"
      },
      "source": [
        "np.tanh(A)"
      ],
      "execution_count": 27,
      "outputs": [
        {
          "output_type": "execute_result",
          "data": {
            "text/plain": [
              "array([0.76159416, 0.96402758, 0.99505475])"
            ]
          },
          "metadata": {},
          "execution_count": 27
        }
      ]
    },
    {
      "cell_type": "markdown",
      "metadata": {
        "id": "bITmEpM7LszR"
      },
      "source": [
        "## The Dot Product"
      ]
    },
    {
      "cell_type": "markdown",
      "metadata": {
        "id": "OJa5nyifvA-j"
      },
      "source": [
        "$$ a \\cdot b = a^T b = \\sum_{d=1}^D a_d b_d $$"
      ]
    },
    {
      "cell_type": "code",
      "metadata": {
        "id": "JnZ_vWW4qMTE"
      },
      "source": [
        "a = np.array([1,2])\n",
        "b = np.array([3,4])"
      ],
      "execution_count": 28,
      "outputs": []
    },
    {
      "cell_type": "code",
      "metadata": {
        "id": "bdD4Vzm3ryuR",
        "colab": {
          "base_uri": "https://localhost:8080/"
        },
        "outputId": "18928998-2b99-40b0-e1bd-4459fa8d73b7"
      },
      "source": [
        "dot = 0\n",
        "for e, f in zip(a, b):\n",
        "  dot += e*f\n",
        "dot"
      ],
      "execution_count": 29,
      "outputs": [
        {
          "output_type": "execute_result",
          "data": {
            "text/plain": [
              "11"
            ]
          },
          "metadata": {},
          "execution_count": 29
        }
      ]
    },
    {
      "cell_type": "code",
      "metadata": {
        "id": "efUGU3ZNEH9T",
        "colab": {
          "base_uri": "https://localhost:8080/"
        },
        "outputId": "34bfabaa-8dea-4005-8cdc-1edabddc3973"
      },
      "source": [
        "# use integer index\n",
        "dot = 0\n",
        "for i in range(len(a)):\n",
        "  dot += a[i] * b[i]\n",
        "dot"
      ],
      "execution_count": 30,
      "outputs": [
        {
          "output_type": "execute_result",
          "data": {
            "text/plain": [
              "11"
            ]
          },
          "metadata": {},
          "execution_count": 30
        }
      ]
    },
    {
      "cell_type": "code",
      "metadata": {
        "id": "O8BdMMpxr6F_",
        "colab": {
          "base_uri": "https://localhost:8080/"
        },
        "outputId": "3528e027-3937-4317-a3fc-3b48bc67bc1f"
      },
      "source": [
        "a * b"
      ],
      "execution_count": 31,
      "outputs": [
        {
          "output_type": "execute_result",
          "data": {
            "text/plain": [
              "array([3, 8])"
            ]
          },
          "metadata": {},
          "execution_count": 31
        }
      ]
    },
    {
      "cell_type": "code",
      "metadata": {
        "id": "E_Msua0sr_Tz",
        "colab": {
          "base_uri": "https://localhost:8080/"
        },
        "outputId": "7e8ad1db-5681-4d32-b557-43f1215860ce"
      },
      "source": [
        "np.sum(a * b)"
      ],
      "execution_count": 32,
      "outputs": [
        {
          "output_type": "execute_result",
          "data": {
            "text/plain": [
              "11"
            ]
          },
          "metadata": {},
          "execution_count": 32
        }
      ]
    },
    {
      "cell_type": "code",
      "metadata": {
        "id": "HHLSRnxDsBEo",
        "colab": {
          "base_uri": "https://localhost:8080/"
        },
        "outputId": "76cb4d35-d69c-47d9-9c51-a7030e3c9ca5"
      },
      "source": [
        "(a * b).sum()"
      ],
      "execution_count": 33,
      "outputs": [
        {
          "output_type": "execute_result",
          "data": {
            "text/plain": [
              "11"
            ]
          },
          "metadata": {},
          "execution_count": 33
        }
      ]
    },
    {
      "cell_type": "code",
      "metadata": {
        "id": "aRR1cbgksDmr",
        "colab": {
          "base_uri": "https://localhost:8080/"
        },
        "outputId": "d84291b9-4621-40a3-a357-78fefac4d499"
      },
      "source": [
        "np.dot(a, b)"
      ],
      "execution_count": 34,
      "outputs": [
        {
          "output_type": "execute_result",
          "data": {
            "text/plain": [
              "11"
            ]
          },
          "metadata": {},
          "execution_count": 34
        }
      ]
    },
    {
      "cell_type": "code",
      "metadata": {
        "id": "6WwQ2TzHsFC3",
        "colab": {
          "base_uri": "https://localhost:8080/"
        },
        "outputId": "56b9cfb0-46b2-4ed7-b022-f605e443b854"
      },
      "source": [
        "a.dot(b)"
      ],
      "execution_count": 35,
      "outputs": [
        {
          "output_type": "execute_result",
          "data": {
            "text/plain": [
              "11"
            ]
          },
          "metadata": {},
          "execution_count": 35
        }
      ]
    },
    {
      "cell_type": "code",
      "metadata": {
        "id": "l34Llv1MsGGI",
        "colab": {
          "base_uri": "https://localhost:8080/"
        },
        "outputId": "36f91edc-4c68-4b24-fb1d-783946f562c0"
      },
      "source": [
        "b.dot(a)"
      ],
      "execution_count": 36,
      "outputs": [
        {
          "output_type": "execute_result",
          "data": {
            "text/plain": [
              "11"
            ]
          },
          "metadata": {},
          "execution_count": 36
        }
      ]
    },
    {
      "cell_type": "code",
      "metadata": {
        "id": "w7uLRNdesHTM",
        "colab": {
          "base_uri": "https://localhost:8080/"
        },
        "outputId": "14cce751-7ea3-4681-fe5d-db77b827c0c1"
      },
      "source": [
        "a @ b"
      ],
      "execution_count": 37,
      "outputs": [
        {
          "output_type": "execute_result",
          "data": {
            "text/plain": [
              "11"
            ]
          },
          "metadata": {},
          "execution_count": 37
        }
      ]
    },
    {
      "cell_type": "markdown",
      "metadata": {
        "id": "NeQ_U0EevVxR"
      },
      "source": [
        "$$ a^T b = \\left\\lVert a \\right\\rVert \\left\\lVert b \\right\\rVert \\cos \\theta_{ab}$$\n",
        "\n",
        "$$ \\cos \\theta_{ab} = \\frac{a^T b}{\\left\\lVert a \\right\\rVert \\left\\lVert b \\right\\rVert} $$"
      ]
    },
    {
      "cell_type": "markdown",
      "metadata": {
        "id": "HPnLQJ8zwjsZ"
      },
      "source": [
        "$$ \\left\\lVert a \\right\\rVert = \\sqrt{\\sum_{d=1}^D a_d^2 } $$"
      ]
    },
    {
      "cell_type": "code",
      "metadata": {
        "id": "uTIfhyQQsTW7",
        "colab": {
          "base_uri": "https://localhost:8080/"
        },
        "outputId": "7851c9b4-bf4d-4f0e-f4df-4712ad148383"
      },
      "source": [
        "amag = np.sqrt((a * a).sum())\n",
        "amag"
      ],
      "execution_count": 38,
      "outputs": [
        {
          "output_type": "execute_result",
          "data": {
            "text/plain": [
              "2.23606797749979"
            ]
          },
          "metadata": {},
          "execution_count": 38
        }
      ]
    },
    {
      "cell_type": "code",
      "metadata": {
        "id": "WmeKjge-sYc-",
        "colab": {
          "base_uri": "https://localhost:8080/"
        },
        "outputId": "7035097d-a187-4f1f-bb7f-87c8c208d498"
      },
      "source": [
        "amag = np.linalg.norm(amag)\n",
        "amag"
      ],
      "execution_count": 39,
      "outputs": [
        {
          "output_type": "execute_result",
          "data": {
            "text/plain": [
              "2.23606797749979"
            ]
          },
          "metadata": {},
          "execution_count": 39
        }
      ]
    },
    {
      "cell_type": "code",
      "metadata": {
        "id": "ABr65tNMsc7_"
      },
      "source": [
        "cosangle = a.dot(b) / (np.linalg.norm(a) * np.linalg.norm(b))"
      ],
      "execution_count": 40,
      "outputs": []
    },
    {
      "cell_type": "code",
      "metadata": {
        "id": "tFlv4mQcsho3",
        "colab": {
          "base_uri": "https://localhost:8080/"
        },
        "outputId": "de189287-f5e4-400a-c555-f81d5eb843f2"
      },
      "source": [
        "cosangle"
      ],
      "execution_count": 41,
      "outputs": [
        {
          "output_type": "execute_result",
          "data": {
            "text/plain": [
              "0.9838699100999074"
            ]
          },
          "metadata": {},
          "execution_count": 41
        }
      ]
    },
    {
      "cell_type": "code",
      "metadata": {
        "id": "6zwbfBYIsi_P",
        "colab": {
          "base_uri": "https://localhost:8080/"
        },
        "outputId": "87edd7e1-ffaa-4b27-dd77-bde9ce1115a9"
      },
      "source": [
        "angle = np.arccos(cosangle)\n",
        "angle"
      ],
      "execution_count": 42,
      "outputs": [
        {
          "output_type": "execute_result",
          "data": {
            "text/plain": [
              "0.17985349979247847"
            ]
          },
          "metadata": {},
          "execution_count": 42
        }
      ]
    },
    {
      "cell_type": "markdown",
      "metadata": {
        "id": "m7rqbLCcLwUU"
      },
      "source": [
        "## Speed Test"
      ]
    },
    {
      "cell_type": "code",
      "metadata": {
        "id": "1A4r4yUA8haB",
        "colab": {
          "base_uri": "https://localhost:8080/"
        },
        "outputId": "62f3d5ae-d540-4782-dc0d-d74bdf68d6eb"
      },
      "source": [
        "## speed comparison ##\n",
        "import numpy as np\n",
        "from datetime import datetime\n",
        "\n",
        "# note: you can also use %timeit\n",
        "\n",
        "a = np.random.randn(100)\n",
        "b = np.random.randn(100)\n",
        "T = 100000\n",
        "\n",
        "def slow_dot_product(a, b):\n",
        "  result = 0\n",
        "  for e, f in zip(a, b):\n",
        "    result += e*f\n",
        "  return result\n",
        "\n",
        "t0 = datetime.now()\n",
        "for t in range(T):\n",
        "  slow_dot_product(a, b)\n",
        "dt1 = datetime.now() - t0\n",
        "\n",
        "t0 = datetime.now()\n",
        "for t in range(T):\n",
        "  a.dot(b)\n",
        "dt2 = datetime.now() - t0\n",
        "\n",
        "print(\"dt1 / dt2:\", dt1.total_seconds() / dt2.total_seconds())"
      ],
      "execution_count": 43,
      "outputs": [
        {
          "output_type": "stream",
          "name": "stdout",
          "text": [
            "dt1 / dt2: 41.035707330644044\n"
          ]
        }
      ]
    },
    {
      "cell_type": "markdown",
      "metadata": {
        "id": "Dp6XgRz-Lx0a"
      },
      "source": [
        "## Matrices"
      ]
    },
    {
      "cell_type": "code",
      "metadata": {
        "id": "yy5O-BRCLzBi",
        "colab": {
          "base_uri": "https://localhost:8080/"
        },
        "outputId": "0993fe86-7c89-4fa0-b0ce-e8f6e9d7648b"
      },
      "source": [
        "L = [[1,2], [3,4]]\n",
        "L"
      ],
      "execution_count": 44,
      "outputs": [
        {
          "output_type": "execute_result",
          "data": {
            "text/plain": [
              "[[1, 2], [3, 4]]"
            ]
          },
          "metadata": {},
          "execution_count": 44
        }
      ]
    },
    {
      "cell_type": "code",
      "metadata": {
        "id": "8LKJa4A8M93b",
        "colab": {
          "base_uri": "https://localhost:8080/"
        },
        "outputId": "c8803c41-3460-40b9-ae7d-3765e18ec51f"
      },
      "source": [
        "L[0]"
      ],
      "execution_count": 45,
      "outputs": [
        {
          "output_type": "execute_result",
          "data": {
            "text/plain": [
              "[1, 2]"
            ]
          },
          "metadata": {},
          "execution_count": 45
        }
      ]
    },
    {
      "cell_type": "code",
      "metadata": {
        "id": "urv6P_-OM-na",
        "colab": {
          "base_uri": "https://localhost:8080/"
        },
        "outputId": "89487ecd-8828-496f-de25-3c5865186938"
      },
      "source": [
        "L[0][1]"
      ],
      "execution_count": 46,
      "outputs": [
        {
          "output_type": "execute_result",
          "data": {
            "text/plain": [
              "2"
            ]
          },
          "metadata": {},
          "execution_count": 46
        }
      ]
    },
    {
      "cell_type": "code",
      "metadata": {
        "id": "D83WMGZsNVpd",
        "colab": {
          "base_uri": "https://localhost:8080/"
        },
        "outputId": "7b8f8b0d-ccd9-4bc6-b033-e271ae00bc0a"
      },
      "source": [
        "A = np.array([[1,2], [3,4]])\n",
        "A"
      ],
      "execution_count": 47,
      "outputs": [
        {
          "output_type": "execute_result",
          "data": {
            "text/plain": [
              "array([[1, 2],\n",
              "       [3, 4]])"
            ]
          },
          "metadata": {},
          "execution_count": 47
        }
      ]
    },
    {
      "cell_type": "code",
      "metadata": {
        "id": "opW1ghAwRu9a",
        "colab": {
          "base_uri": "https://localhost:8080/"
        },
        "outputId": "43378466-5a15-42c0-d107-bff143de363b"
      },
      "source": [
        "A[0][1]"
      ],
      "execution_count": 48,
      "outputs": [
        {
          "output_type": "execute_result",
          "data": {
            "text/plain": [
              "2"
            ]
          },
          "metadata": {},
          "execution_count": 48
        }
      ]
    },
    {
      "cell_type": "code",
      "metadata": {
        "id": "OVV5gimRRx8-",
        "colab": {
          "base_uri": "https://localhost:8080/"
        },
        "outputId": "8f6638c5-3e88-4890-c29e-26469ba40a5e"
      },
      "source": [
        "A[0,1]"
      ],
      "execution_count": 49,
      "outputs": [
        {
          "output_type": "execute_result",
          "data": {
            "text/plain": [
              "2"
            ]
          },
          "metadata": {},
          "execution_count": 49
        }
      ]
    },
    {
      "cell_type": "code",
      "metadata": {
        "id": "9X2_e9tGoM7b",
        "colab": {
          "base_uri": "https://localhost:8080/"
        },
        "outputId": "d5b8fbcd-889b-4078-9fe1-4b59fc5f8553"
      },
      "source": [
        "A[:,0]"
      ],
      "execution_count": 50,
      "outputs": [
        {
          "output_type": "execute_result",
          "data": {
            "text/plain": [
              "array([1, 3])"
            ]
          },
          "metadata": {},
          "execution_count": 50
        }
      ]
    },
    {
      "cell_type": "code",
      "metadata": {
        "id": "P131KAabR0jr",
        "colab": {
          "base_uri": "https://localhost:8080/"
        },
        "outputId": "d0e37823-1f40-46f8-843f-9a8efd783f30"
      },
      "source": [
        "A.T"
      ],
      "execution_count": 51,
      "outputs": [
        {
          "output_type": "execute_result",
          "data": {
            "text/plain": [
              "array([[1, 3],\n",
              "       [2, 4]])"
            ]
          },
          "metadata": {},
          "execution_count": 51
        }
      ]
    },
    {
      "cell_type": "code",
      "metadata": {
        "id": "_Z-OdLyfbSIj",
        "colab": {
          "base_uri": "https://localhost:8080/"
        },
        "outputId": "8ae41f8b-8a5b-4c16-c75b-b0ce7b5fb5fa"
      },
      "source": [
        "np.exp(A)"
      ],
      "execution_count": 52,
      "outputs": [
        {
          "output_type": "execute_result",
          "data": {
            "text/plain": [
              "array([[ 2.71828183,  7.3890561 ],\n",
              "       [20.08553692, 54.59815003]])"
            ]
          },
          "metadata": {},
          "execution_count": 52
        }
      ]
    },
    {
      "cell_type": "code",
      "metadata": {
        "id": "QU7kqXTZNX4_",
        "colab": {
          "base_uri": "https://localhost:8080/"
        },
        "outputId": "ce2bce14-9a52-4561-f148-dac759f6a579"
      },
      "source": [
        "np.exp(L)"
      ],
      "execution_count": 53,
      "outputs": [
        {
          "output_type": "execute_result",
          "data": {
            "text/plain": [
              "array([[ 2.71828183,  7.3890561 ],\n",
              "       [20.08553692, 54.59815003]])"
            ]
          },
          "metadata": {},
          "execution_count": 53
        }
      ]
    },
    {
      "cell_type": "code",
      "metadata": {
        "id": "VXw7euSIbagB",
        "colab": {
          "base_uri": "https://localhost:8080/"
        },
        "outputId": "f3a78706-89aa-4b19-ee6d-51bd381ff132"
      },
      "source": [
        "B = np.array([[1,2,3],[4,5,6]])\n",
        "B"
      ],
      "execution_count": 54,
      "outputs": [
        {
          "output_type": "execute_result",
          "data": {
            "text/plain": [
              "array([[1, 2, 3],\n",
              "       [4, 5, 6]])"
            ]
          },
          "metadata": {},
          "execution_count": 54
        }
      ]
    },
    {
      "cell_type": "code",
      "metadata": {
        "id": "i8-Exef9hhXs",
        "colab": {
          "base_uri": "https://localhost:8080/"
        },
        "outputId": "3dd2c7bc-e776-465b-e818-dfd1e48041a6"
      },
      "source": [
        "A.dot(B)"
      ],
      "execution_count": 55,
      "outputs": [
        {
          "output_type": "execute_result",
          "data": {
            "text/plain": [
              "array([[ 9, 12, 15],\n",
              "       [19, 26, 33]])"
            ]
          },
          "metadata": {},
          "execution_count": 55
        }
      ]
    },
    {
      "cell_type": "code",
      "metadata": {
        "id": "W_sNxQQ2iQns",
        "colab": {
          "base_uri": "https://localhost:8080/",
          "height": 165
        },
        "outputId": "30a916bc-6138-4aa6-f1db-5a1ff55b3c38"
      },
      "source": [
        "# error! inner dimensions must match\n",
        "A.dot(B.T)"
      ],
      "execution_count": null,
      "outputs": [
        {
          "output_type": "error",
          "ename": "ValueError",
          "evalue": "ignored",
          "traceback": [
            "\u001b[0;31m---------------------------------------------------------------------------\u001b[0m",
            "\u001b[0;31mValueError\u001b[0m                                Traceback (most recent call last)",
            "\u001b[0;32m<ipython-input-84-80d79729e8e6>\u001b[0m in \u001b[0;36m<module>\u001b[0;34m()\u001b[0m\n\u001b[0;32m----> 1\u001b[0;31m \u001b[0mA\u001b[0m\u001b[0;34m.\u001b[0m\u001b[0mdot\u001b[0m\u001b[0;34m(\u001b[0m\u001b[0mB\u001b[0m\u001b[0;34m.\u001b[0m\u001b[0mT\u001b[0m\u001b[0;34m)\u001b[0m\u001b[0;34m\u001b[0m\u001b[0;34m\u001b[0m\u001b[0m\n\u001b[0m",
            "\u001b[0;31mValueError\u001b[0m: shapes (2,2) and (3,2) not aligned: 2 (dim 1) != 3 (dim 0)"
          ]
        }
      ]
    },
    {
      "cell_type": "code",
      "metadata": {
        "id": "q39ZD3R9bk93",
        "colab": {
          "base_uri": "https://localhost:8080/"
        },
        "outputId": "324b2209-168c-48e9-8b92-2b62c441e04c"
      },
      "source": [
        "np.linalg.det(A)"
      ],
      "execution_count": 56,
      "outputs": [
        {
          "output_type": "execute_result",
          "data": {
            "text/plain": [
              "-2.0000000000000004"
            ]
          },
          "metadata": {},
          "execution_count": 56
        }
      ]
    },
    {
      "cell_type": "code",
      "metadata": {
        "id": "o7hrwfcubuEH",
        "colab": {
          "base_uri": "https://localhost:8080/"
        },
        "outputId": "726d40ec-f745-49c5-9ae1-3d2ce2d1b6bd"
      },
      "source": [
        "np.linalg.inv(A)"
      ],
      "execution_count": 57,
      "outputs": [
        {
          "output_type": "execute_result",
          "data": {
            "text/plain": [
              "array([[-2. ,  1. ],\n",
              "       [ 1.5, -0.5]])"
            ]
          },
          "metadata": {},
          "execution_count": 57
        }
      ]
    },
    {
      "cell_type": "code",
      "metadata": {
        "id": "psvVfsBliu3U",
        "colab": {
          "base_uri": "https://localhost:8080/"
        },
        "outputId": "35576d73-027f-423c-c816-355be9dd4e00"
      },
      "source": [
        "np.linalg.inv(A).dot(A)"
      ],
      "execution_count": 58,
      "outputs": [
        {
          "output_type": "execute_result",
          "data": {
            "text/plain": [
              "array([[1.00000000e+00, 0.00000000e+00],\n",
              "       [1.11022302e-16, 1.00000000e+00]])"
            ]
          },
          "metadata": {},
          "execution_count": 58
        }
      ]
    },
    {
      "cell_type": "code",
      "metadata": {
        "id": "kdCoG55jbyIs",
        "colab": {
          "base_uri": "https://localhost:8080/"
        },
        "outputId": "d8536170-9a38-46df-fb0e-273d25fe15ee"
      },
      "source": [
        "np.trace(A)"
      ],
      "execution_count": 59,
      "outputs": [
        {
          "output_type": "execute_result",
          "data": {
            "text/plain": [
              "5"
            ]
          },
          "metadata": {},
          "execution_count": 59
        }
      ]
    },
    {
      "cell_type": "code",
      "metadata": {
        "id": "1-leTZncnOVR",
        "colab": {
          "base_uri": "https://localhost:8080/"
        },
        "outputId": "5ea1fee3-7638-4e30-a70c-77b67b3bad71"
      },
      "source": [
        "np.diag(A)"
      ],
      "execution_count": 60,
      "outputs": [
        {
          "output_type": "execute_result",
          "data": {
            "text/plain": [
              "array([1, 4])"
            ]
          },
          "metadata": {},
          "execution_count": 60
        }
      ]
    },
    {
      "cell_type": "code",
      "metadata": {
        "id": "JBQsiS-XnV7v",
        "colab": {
          "base_uri": "https://localhost:8080/"
        },
        "outputId": "7c28b2d5-e5d9-4481-d5e4-c87ba9689102"
      },
      "source": [
        "np.diag([1, 4])"
      ],
      "execution_count": 61,
      "outputs": [
        {
          "output_type": "execute_result",
          "data": {
            "text/plain": [
              "array([[1, 0],\n",
              "       [0, 4]])"
            ]
          },
          "metadata": {},
          "execution_count": 61
        }
      ]
    },
    {
      "cell_type": "code",
      "metadata": {
        "id": "pkNyKFBScAVd",
        "colab": {
          "base_uri": "https://localhost:8080/"
        },
        "outputId": "b9526e17-ff7d-4177-8ddc-62fbd0d15e28"
      },
      "source": [
        "np.linalg.eig(A)"
      ],
      "execution_count": 62,
      "outputs": [
        {
          "output_type": "execute_result",
          "data": {
            "text/plain": [
              "(array([-0.37228132,  5.37228132]), array([[-0.82456484, -0.41597356],\n",
              "        [ 0.56576746, -0.90937671]]))"
            ]
          },
          "metadata": {},
          "execution_count": 62
        }
      ]
    },
    {
      "cell_type": "code",
      "metadata": {
        "id": "K7xvgXLqcHQR"
      },
      "source": [
        "Lam, V = np.linalg.eig(A)"
      ],
      "execution_count": 63,
      "outputs": []
    },
    {
      "cell_type": "code",
      "metadata": {
        "id": "h6dEgMo5wuWl",
        "colab": {
          "base_uri": "https://localhost:8080/"
        },
        "outputId": "7f0fe591-03d1-4532-aceb-4080dcd6596a"
      },
      "source": [
        "V[:,0] * Lam[0] == A @ V[:,0]"
      ],
      "execution_count": 64,
      "outputs": [
        {
          "output_type": "execute_result",
          "data": {
            "text/plain": [
              "array([ True, False])"
            ]
          },
          "metadata": {},
          "execution_count": 64
        }
      ]
    },
    {
      "cell_type": "code",
      "metadata": {
        "id": "jHllWY7Hw7hG",
        "colab": {
          "base_uri": "https://localhost:8080/"
        },
        "outputId": "30fbeb4a-e873-4462-e11f-6dc7476791aa"
      },
      "source": [
        "V[:,0] * Lam[0], A @ V[:,0]"
      ],
      "execution_count": 65,
      "outputs": [
        {
          "output_type": "execute_result",
          "data": {
            "text/plain": [
              "(array([ 0.30697009, -0.21062466]), array([ 0.30697009, -0.21062466]))"
            ]
          },
          "metadata": {},
          "execution_count": 65
        }
      ]
    },
    {
      "cell_type": "code",
      "metadata": {
        "id": "m4dFN99Hw3fk",
        "colab": {
          "base_uri": "https://localhost:8080/"
        },
        "outputId": "08e641f3-da26-4b65-ddf1-a42f50747593"
      },
      "source": [
        "np.allclose(V[:,0] * Lam[0], A @ V[:,0])"
      ],
      "execution_count": 66,
      "outputs": [
        {
          "output_type": "execute_result",
          "data": {
            "text/plain": [
              "True"
            ]
          },
          "metadata": {},
          "execution_count": 66
        }
      ]
    },
    {
      "cell_type": "code",
      "metadata": {
        "id": "8jH2Av91cLxx",
        "colab": {
          "base_uri": "https://localhost:8080/"
        },
        "outputId": "76d07c67-aaa3-484d-ed03-544428d9289b"
      },
      "source": [
        "np.allclose(V @ np.diag(Lam), A @ V)"
      ],
      "execution_count": 67,
      "outputs": [
        {
          "output_type": "execute_result",
          "data": {
            "text/plain": [
              "True"
            ]
          },
          "metadata": {},
          "execution_count": 67
        }
      ]
    },
    {
      "cell_type": "markdown",
      "metadata": {
        "id": "MF9n94OXzEHc"
      },
      "source": [
        "## Solving Linear Systems"
      ]
    },
    {
      "cell_type": "code",
      "metadata": {
        "id": "pHMyzjoHzFi7"
      },
      "source": [
        "A = np.array([[1, 1], [1.5, 4]])\n",
        "b = np.array([2200, 5050])"
      ],
      "execution_count": 68,
      "outputs": []
    },
    {
      "cell_type": "code",
      "metadata": {
        "id": "ljjG7KI685Vd",
        "colab": {
          "base_uri": "https://localhost:8080/"
        },
        "outputId": "c396895b-c6c1-4b0e-80ef-be911f0c2747"
      },
      "source": [
        "np.linalg.solve(A, b)"
      ],
      "execution_count": 69,
      "outputs": [
        {
          "output_type": "execute_result",
          "data": {
            "text/plain": [
              "array([1500.,  700.])"
            ]
          },
          "metadata": {},
          "execution_count": 69
        }
      ]
    },
    {
      "cell_type": "code",
      "metadata": {
        "id": "hJjnYgbX870H",
        "colab": {
          "base_uri": "https://localhost:8080/"
        },
        "outputId": "53ad43c6-696b-4e96-be28-34143b9c3ec6"
      },
      "source": [
        "# don't do this\n",
        "np.linalg.inv(A).dot(b)"
      ],
      "execution_count": 70,
      "outputs": [
        {
          "output_type": "execute_result",
          "data": {
            "text/plain": [
              "array([1500.,  700.])"
            ]
          },
          "metadata": {},
          "execution_count": 70
        }
      ]
    },
    {
      "cell_type": "markdown",
      "metadata": {
        "id": "EH2huugGChb7"
      },
      "source": [
        "## Generating Data"
      ]
    },
    {
      "cell_type": "code",
      "metadata": {
        "id": "afs43yD5Ciqg",
        "colab": {
          "base_uri": "https://localhost:8080/"
        },
        "outputId": "3098d071-d2f4-42c5-a39b-5ca626344264"
      },
      "source": [
        "np.zeros((2, 3))"
      ],
      "execution_count": 71,
      "outputs": [
        {
          "output_type": "execute_result",
          "data": {
            "text/plain": [
              "array([[0., 0., 0.],\n",
              "       [0., 0., 0.]])"
            ]
          },
          "metadata": {},
          "execution_count": 71
        }
      ]
    },
    {
      "cell_type": "code",
      "metadata": {
        "id": "B5_T7Y0VMO02",
        "colab": {
          "base_uri": "https://localhost:8080/"
        },
        "outputId": "a9cc67ce-3d77-4e36-eba4-d153244aed09"
      },
      "source": [
        "np.ones((2, 3))"
      ],
      "execution_count": 72,
      "outputs": [
        {
          "output_type": "execute_result",
          "data": {
            "text/plain": [
              "array([[1., 1., 1.],\n",
              "       [1., 1., 1.]])"
            ]
          },
          "metadata": {},
          "execution_count": 72
        }
      ]
    },
    {
      "cell_type": "code",
      "metadata": {
        "id": "K6x0L6PhMQRl",
        "colab": {
          "base_uri": "https://localhost:8080/"
        },
        "outputId": "64e0f500-8841-48df-e328-8606f2ec0e12"
      },
      "source": [
        "10 * np.ones((2, 3))"
      ],
      "execution_count": 73,
      "outputs": [
        {
          "output_type": "execute_result",
          "data": {
            "text/plain": [
              "array([[10., 10., 10.],\n",
              "       [10., 10., 10.]])"
            ]
          },
          "metadata": {},
          "execution_count": 73
        }
      ]
    },
    {
      "cell_type": "code",
      "metadata": {
        "id": "yunyooXkMgph",
        "colab": {
          "base_uri": "https://localhost:8080/"
        },
        "outputId": "a87e362c-7e9d-465e-9e5b-c2e43b9506ab"
      },
      "source": [
        "np.eye(3)"
      ],
      "execution_count": 74,
      "outputs": [
        {
          "output_type": "execute_result",
          "data": {
            "text/plain": [
              "array([[1., 0., 0.],\n",
              "       [0., 1., 0.],\n",
              "       [0., 0., 1.]])"
            ]
          },
          "metadata": {},
          "execution_count": 74
        }
      ]
    },
    {
      "cell_type": "code",
      "metadata": {
        "id": "MEjifZddOOM9",
        "colab": {
          "base_uri": "https://localhost:8080/",
          "height": 34
        },
        "outputId": "0fa7873f-4980-4501-e521-65e990deb9b2"
      },
      "source": [
        "np.random.random()"
      ],
      "execution_count": null,
      "outputs": [
        {
          "output_type": "execute_result",
          "data": {
            "text/plain": [
              "0.7581150038421872"
            ]
          },
          "metadata": {
            "tags": []
          },
          "execution_count": 102
        }
      ]
    },
    {
      "cell_type": "code",
      "metadata": {
        "id": "OwbTs3khOY0W",
        "colab": {
          "base_uri": "https://localhost:8080/",
          "height": 52
        },
        "outputId": "2697d229-e78a-4970-cf50-4af83ce15978"
      },
      "source": [
        "np.random.random((2, 3))"
      ],
      "execution_count": null,
      "outputs": [
        {
          "output_type": "execute_result",
          "data": {
            "text/plain": [
              "array([[0.03284802, 0.83250625, 0.2914984 ],\n",
              "       [0.03998929, 0.85275735, 0.31078009]])"
            ]
          },
          "metadata": {
            "tags": []
          },
          "execution_count": 103
        }
      ]
    },
    {
      "cell_type": "code",
      "metadata": {
        "id": "TsZhBWcdPPwK",
        "colab": {
          "base_uri": "https://localhost:8080/",
          "height": 52
        },
        "outputId": "97a51268-8e9d-4e09-9b42-6538ba89293c"
      },
      "source": [
        "np.random.randn(2, 3)"
      ],
      "execution_count": null,
      "outputs": [
        {
          "output_type": "execute_result",
          "data": {
            "text/plain": [
              "array([[ 0.97730916,  0.05594193, -2.46231718],\n",
              "       [ 0.75246035, -1.46678342, -0.97568316]])"
            ]
          },
          "metadata": {
            "tags": []
          },
          "execution_count": 104
        }
      ]
    },
    {
      "cell_type": "code",
      "metadata": {
        "id": "QRVlFW8mYXdv"
      },
      "source": [
        "R = np.random.randn(10000)"
      ],
      "execution_count": 75,
      "outputs": []
    },
    {
      "cell_type": "code",
      "metadata": {
        "id": "g4am8a3ZYaam",
        "colab": {
          "base_uri": "https://localhost:8080/"
        },
        "outputId": "28f11982-baa9-4454-eabe-0017caebfd33"
      },
      "source": [
        "R.mean()"
      ],
      "execution_count": 76,
      "outputs": [
        {
          "output_type": "execute_result",
          "data": {
            "text/plain": [
              "-0.0026952437388119304"
            ]
          },
          "metadata": {},
          "execution_count": 76
        }
      ]
    },
    {
      "cell_type": "code",
      "metadata": {
        "id": "hbggL_0n0I8S",
        "colab": {
          "base_uri": "https://localhost:8080/"
        },
        "outputId": "f3748a51-f2b8-45d2-fe3b-5ef8c4c40aa4"
      },
      "source": [
        "np.mean(R)"
      ],
      "execution_count": 77,
      "outputs": [
        {
          "output_type": "execute_result",
          "data": {
            "text/plain": [
              "-0.0026952437388119304"
            ]
          },
          "metadata": {},
          "execution_count": 77
        }
      ]
    },
    {
      "cell_type": "code",
      "metadata": {
        "id": "ofYpDmxgYnAL",
        "colab": {
          "base_uri": "https://localhost:8080/"
        },
        "outputId": "7a6bc178-1853-4705-9859-9ae5669dde39"
      },
      "source": [
        "R.var()"
      ],
      "execution_count": 78,
      "outputs": [
        {
          "output_type": "execute_result",
          "data": {
            "text/plain": [
              "0.9903438654211503"
            ]
          },
          "metadata": {},
          "execution_count": 78
        }
      ]
    },
    {
      "cell_type": "code",
      "metadata": {
        "id": "-pwAoqmwYxf1"
      },
      "source": [
        "R = np.random.randn(10000, 3)"
      ],
      "execution_count": 79,
      "outputs": []
    },
    {
      "cell_type": "code",
      "source": [
        "R"
      ],
      "metadata": {
        "colab": {
          "base_uri": "https://localhost:8080/"
        },
        "id": "xqz_g1TmpdgD",
        "outputId": "a8c5a3ce-30ea-4151-aebb-7e934b8964b8"
      },
      "execution_count": 80,
      "outputs": [
        {
          "output_type": "execute_result",
          "data": {
            "text/plain": [
              "array([[ 0.05880889,  0.76526439, -2.64630997],\n",
              "       [ 0.51409559, -0.75326782,  1.16050597],\n",
              "       [ 0.38797838, -0.74171471,  0.33659726],\n",
              "       ...,\n",
              "       [ 1.44108003,  0.13111546, -1.1295562 ],\n",
              "       [-1.84042294, -1.22743086,  0.79975294],\n",
              "       [ 0.77220158, -1.32552816,  0.79328036]])"
            ]
          },
          "metadata": {},
          "execution_count": 80
        }
      ]
    },
    {
      "cell_type": "code",
      "metadata": {
        "id": "1jsCMjuUZGgq",
        "colab": {
          "base_uri": "https://localhost:8080/"
        },
        "outputId": "bf0ae863-ecf7-4bfc-a0c1-7e8b7b10a706"
      },
      "source": [
        "R.mean(axis=0)"
      ],
      "execution_count": 81,
      "outputs": [
        {
          "output_type": "execute_result",
          "data": {
            "text/plain": [
              "array([0.0068157 , 0.00733165, 0.0029633 ])"
            ]
          },
          "metadata": {},
          "execution_count": 81
        }
      ]
    },
    {
      "cell_type": "code",
      "metadata": {
        "id": "Ghv9E_tPZXDn",
        "colab": {
          "base_uri": "https://localhost:8080/"
        },
        "outputId": "7bd15a26-6f0e-474a-db11-c0a16287d5b5"
      },
      "source": [
        "R.mean(axis=1).shape"
      ],
      "execution_count": 82,
      "outputs": [
        {
          "output_type": "execute_result",
          "data": {
            "text/plain": [
              "(10000,)"
            ]
          },
          "metadata": {},
          "execution_count": 82
        }
      ]
    },
    {
      "cell_type": "code",
      "metadata": {
        "id": "KmdHkq-FiOG2",
        "colab": {
          "base_uri": "https://localhost:8080/"
        },
        "outputId": "af7b5c36-c176-4c39-f7d2-018ce4c94dc6"
      },
      "source": [
        "np.cov(R).shape"
      ],
      "execution_count": 83,
      "outputs": [
        {
          "output_type": "execute_result",
          "data": {
            "text/plain": [
              "(10000, 10000)"
            ]
          },
          "metadata": {},
          "execution_count": 83
        }
      ]
    },
    {
      "cell_type": "code",
      "metadata": {
        "id": "Z73Tog0WiRTy",
        "colab": {
          "base_uri": "https://localhost:8080/"
        },
        "outputId": "b4a03008-f2a4-4aa8-b63f-ee0fd1f5b7c1"
      },
      "source": [
        "np.cov(R.T)"
      ],
      "execution_count": 84,
      "outputs": [
        {
          "output_type": "execute_result",
          "data": {
            "text/plain": [
              "array([[ 1.00133358e+00, -1.03911500e-03,  4.64098184e-05],\n",
              "       [-1.03911500e-03,  9.79815762e-01, -1.23349217e-02],\n",
              "       [ 4.64098184e-05, -1.23349217e-02,  1.00825456e+00]])"
            ]
          },
          "metadata": {},
          "execution_count": 84
        }
      ]
    },
    {
      "cell_type": "code",
      "metadata": {
        "id": "tBAzvX8TiTlB",
        "colab": {
          "base_uri": "https://localhost:8080/"
        },
        "outputId": "c0741c75-58fb-4f00-e9f3-fd30a6563d2a"
      },
      "source": [
        "np.cov(R, rowvar=False)"
      ],
      "execution_count": 85,
      "outputs": [
        {
          "output_type": "execute_result",
          "data": {
            "text/plain": [
              "array([[ 1.00133358e+00, -1.03911500e-03,  4.64098184e-05],\n",
              "       [-1.03911500e-03,  9.79815762e-01, -1.23349217e-02],\n",
              "       [ 4.64098184e-05, -1.23349217e-02,  1.00825456e+00]])"
            ]
          },
          "metadata": {},
          "execution_count": 85
        }
      ]
    },
    {
      "cell_type": "code",
      "metadata": {
        "id": "ZxxOKs_ArYZs",
        "colab": {
          "base_uri": "https://localhost:8080/"
        },
        "outputId": "a99ef736-e69e-4e49-b08f-fe7949ab3502"
      },
      "source": [
        "np.random.randint(0, 10, size=(3, 3))"
      ],
      "execution_count": 86,
      "outputs": [
        {
          "output_type": "execute_result",
          "data": {
            "text/plain": [
              "array([[3, 1, 1],\n",
              "       [9, 2, 5],\n",
              "       [8, 3, 5]])"
            ]
          },
          "metadata": {},
          "execution_count": 86
        }
      ]
    },
    {
      "cell_type": "code",
      "metadata": {
        "id": "ER8hjqUVsWv2",
        "colab": {
          "base_uri": "https://localhost:8080/"
        },
        "outputId": "8fadc48a-0270-41ec-9652-fd3084d70c63"
      },
      "source": [
        "np.random.choice(10, size=(3, 3))"
      ],
      "execution_count": 87,
      "outputs": [
        {
          "output_type": "execute_result",
          "data": {
            "text/plain": [
              "array([[7, 8, 4],\n",
              "       [0, 9, 2],\n",
              "       [8, 4, 2]])"
            ]
          },
          "metadata": {},
          "execution_count": 87
        }
      ]
    }
  ]
}